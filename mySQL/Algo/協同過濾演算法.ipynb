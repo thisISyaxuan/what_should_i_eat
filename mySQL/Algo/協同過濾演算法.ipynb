{
 "cells": [
  {
   "cell_type": "code",
   "execution_count": 3,
   "id": "665137dc",
   "metadata": {},
   "outputs": [],
   "source": [
    "import numpy as np #conda install -c anaconda numpy\n",
    "import pandas as pd #conda install -c anaconda pandas\n",
    "import seaborn as sns #conda install -c anaconda seaborn\n",
    "from sqlalchemy import create_engine #conda install -c anaconda sqlalchemy\n",
    "from sklearn.metrics.pairwise import cosine_similarity #conda install -c anaconda scikit-learn\n",
    "from numpy import dot\n",
    "from numpy.linalg import norm"
   ]
  },
  {
   "cell_type": "code",
   "execution_count": 4,
   "id": "1af9419b",
   "metadata": {},
   "outputs": [],
   "source": [
    "host = 'localhost'  # localhost本地端\n",
    "user = 'root'\n",
    "password = ''\n",
    "db_name = 'user_info'\n",
    "port = '3306'  #3306\n",
    "\n",
    "connection_string = f'mysql+mysqlconnector://{user}:{password}@{host}:{port}/{db_name}'\n",
    "engine = create_engine(connection_string)"
   ]
  },
  {
   "cell_type": "code",
   "execution_count": 6,
   "id": "77599806",
   "metadata": {},
   "outputs": [
    {
     "name": "stdout",
     "output_type": "stream",
     "text": [
      "   uID  rID  rating  三明治  中式  丼飯  便當  健康餐  冰淇淋  咖哩飯\n",
      "0   16   52       1    0   1   0   0    1    0    0\n",
      "1   14   52       2    0   1   0   0    1    0    0\n",
      "2   16   52       4    0   1   0   0    1    0    0\n",
      "3   16   52       4    0   1   0   0    1    0    0\n",
      "4   10   52       1    0   1   0   0    1    0    0\n"
     ]
    }
   ],
   "source": [
    "sql_query = 'SELECT rID,rName,all_label FROM res_info;'\n",
    "res_info = pd.read_sql_query(sql_query, engine)\n",
    "sql_query = 'SELECT uID,rID,rating FROM cost_detail;'\n",
    "cost_detail = pd.read_sql_query(sql_query, engine)\n",
    "\n",
    "res_rating = pd.merge(cost_detail[[\"uID\",\"rID\",\"rating\"]], res_info[[\"rID\",\"all_label\"]], on='rID')\n",
    "dummies = res_rating[\"all_label\"].str.get_dummies(',')\n",
    "df = pd.concat([res_rating, dummies], axis=1)\n",
    "df.drop(['all_label'],axis=1,inplace=True)\n",
    "\n",
    "print(df.iloc[:5,:10])"
   ]
  },
  {
   "cell_type": "code",
   "execution_count": 9,
   "id": "e59d2d7f",
   "metadata": {},
   "outputs": [],
   "source": [
    "def find_common_res(user1,user2):\n",
    "    \"\"\"Find movies that both users have watched\"\"\"\n",
    "    s1 = set((df.loc[df[\"uID\"]==user1,\"rID\"].values))\n",
    "    s2 = set((df.loc[df[\"uID\"]==user2,\"rID\"].values))\n",
    "    return s1.intersection(s2)\n",
    "\n",
    "def cal_similarity_for_res_ratings(user1,user2,res_id,method=\"cosine\"):\n",
    "    \"\"\"Calculate the similarity for res ratings between user1 and user2\"\"\"\n",
    "    u1 = df[df[\"uID\"]==user1]\n",
    "    u2 = df[df[\"uID\"]==user2]\n",
    "    vec1 = u1[u1.rID.isin(res_id)].sort_values(by=\"rID\")[\"rating\"].values\n",
    "    vec2 = u2[u2.rID.isin(res_id)].sort_values(by=\"rID\")[\"rating\"].values\n",
    "    if method==\"cosine\":        \n",
    "        return dot(vec1, vec2)/(norm(vec1)*norm(vec2))\n",
    "    return None\n",
    "\n",
    "def find_the_most_similar_users(user, num):\n",
    "    # Calculate the similarity between the user and other users\n",
    "    similarities = []\n",
    "    user_ids = []\n",
    "    for other_user in df.uID.unique():\n",
    "        if other_user == user:\n",
    "            continue\n",
    "        \n",
    "        common_res = find_common_res(user,other_user)\n",
    "        if len(common_res)<10:\n",
    "            sim = 0\n",
    "        else:\n",
    "            sim = cal_similarity_for_res_ratings(user,other_user,common_res)\n",
    "        \n",
    "        similarities.append(sim)\n",
    "        user_ids.append(other_user)\n",
    "            \n",
    "    # Find top n similar users\n",
    "    similarities,user_ids = np.array(similarities),np.array(user_ids)\n",
    "    sorted_index = (np.argsort(similarities)[::-1][:num]).tolist()\n",
    "    most_similar_users = user_ids[sorted_index] \n",
    "    return most_similar_users"
   ]
  },
  {
   "cell_type": "code",
   "execution_count": 10,
   "id": "63536cc1",
   "metadata": {},
   "outputs": [
    {
     "name": "stdout",
     "output_type": "stream",
     "text": [
      "user: 1\n",
      "The most similar users: [ 3 12 14 10  6 13 15  5  2  7 17 20  9  8 18]\n"
     ]
    }
   ],
   "source": [
    "user = 1\n",
    "num = 15\n",
    "similar_users = find_the_most_similar_users(user,num)\n",
    "\n",
    "print(f\"user: {user}\")\n",
    "print(f\"The most similar users: {similar_users}\")"
   ]
  },
  {
   "cell_type": "code",
   "execution_count": 11,
   "id": "a2042831",
   "metadata": {},
   "outputs": [],
   "source": [
    "def recommend(user,similar_users ,top_n=10):\n",
    "    # Find the restaurant the user hasn't seen and the similar users have seen.\n",
    "    seen_res = np.unique(df.loc[df[\"uID\"]==user,\"rID\"].values)\n",
    "    not_seen_cond = df[\"rID\"].isin(seen_res)==False\n",
    "    similar_cond = df[\"uID\"].isin(similar_users)\n",
    "    not_seen_res_ratings = df[not_seen_cond & similar_cond][[\"rID\",\"rating\"]]\n",
    "    \n",
    "    # Find average ratings by the most similar users\n",
    "    average_ratings = not_seen_res_ratings.groupby(\"rID\").mean()\n",
    "    average_ratings.reset_index(inplace=True)\n",
    "    top_ratings = average_ratings.sort_values(by=\"rating\",ascending=False).iloc[:top_n]\n",
    "    top_ratings.reset_index(inplace=True,drop=True)\n",
    "    return top_ratings"
   ]
  },
  {
   "cell_type": "code",
   "execution_count": 12,
   "id": "e0624f61",
   "metadata": {},
   "outputs": [
    {
     "name": "stdout",
     "output_type": "stream",
     "text": [
      "Top-10 average ratings by the most simiilar users:\n",
      "   rID    rating                                              rName\n",
      "0   51  5.000000                                            Mica 蔬食\n",
      "1   10  5.000000                                          18度C巧克力工房\n",
      "2   20  4.000000                                              520餐廚\n",
      "3   36  4.000000                            Bon Voyage Coffee 樂悠遊咖啡\n",
      "4   49  4.000000                                     La Bello 美妍冰淇淋\n",
      "5   48  3.833333  L Kitchen 佬廚坊 (寵物餐廳，港式餐點) [座位跟人手限制，一組客人超過6位，無法...\n",
      "6   54  3.800000        Montréal Reservation Restaurant (蒙特利爾預約制餐廳)\n",
      "7    9  3.666667                                           132巷咖啡簡餐\n",
      "8   12  3.500000                                             24鬆餅小舖\n",
      "9   18  3.500000                                          50嵐 埔里中山店\n"
     ]
    }
   ],
   "source": [
    "top_n = 10\n",
    "top_ratings = recommend(user,similar_users, top_n)\n",
    "print(f\"Top-{top_n} average ratings by the most simiilar users:\")\n",
    "print(pd.merge(top_ratings, res_info[[\"rID\",\"rName\"]], on='rID'))"
   ]
  },
  {
   "cell_type": "code",
   "execution_count": null,
   "id": "e4bc9cb9",
   "metadata": {},
   "outputs": [],
   "source": []
  }
 ],
 "metadata": {
  "kernelspec": {
   "display_name": "Python 3 (ipykernel)",
   "language": "python",
   "name": "python3"
  },
  "language_info": {
   "codemirror_mode": {
    "name": "ipython",
    "version": 3
   },
   "file_extension": ".py",
   "mimetype": "text/x-python",
   "name": "python",
   "nbconvert_exporter": "python",
   "pygments_lexer": "ipython3",
   "version": "3.11.4"
  }
 },
 "nbformat": 4,
 "nbformat_minor": 5
}
