{
 "cells": [
  {
   "cell_type": "code",
   "execution_count": 1,
   "id": "eac62f81",
   "metadata": {},
   "outputs": [],
   "source": [
    "import numpy as np #conda install -c anaconda numpy\n",
    "import pandas as pd #conda install -c anaconda pandas\n",
    "import seaborn as sns #conda install -c anaconda seaborn\n",
    "from sqlalchemy import create_engine #conda install -c anaconda sqlalchemy\n",
    "from sklearn.metrics.pairwise import cosine_similarity #conda install -c anaconda scikit-learn\n",
    "from numpy import dot\n",
    "from numpy.linalg import norm"
   ]
  },
  {
   "cell_type": "code",
   "execution_count": 2,
   "id": "baf97e3b",
   "metadata": {},
   "outputs": [],
   "source": [
    "host = 'localhost'  # localhost本地端\n",
    "user = 'root'\n",
    "password = ''\n",
    "db_name = 'user_info'\n",
    "port = '3306'  #3306\n",
    "\n",
    "connection_string = f'mysql+mysqlconnector://{user}:{password}@{host}:{port}/{db_name}'\n",
    "engine = create_engine(connection_string)"
   ]
  },
  {
   "cell_type": "code",
   "execution_count": 3,
   "id": "971a1dee",
   "metadata": {},
   "outputs": [
    {
     "name": "stdout",
     "output_type": "stream",
     "text": [
      "0    中式,熱炒,合菜\n",
      "1    粥,鍋物,鍋燒麵\n",
      "2        飯,簡餐\n",
      "3        中式,麵\n",
      "4       咖啡,簡餐\n",
      "Name: all_label, dtype: object\n",
      "     三明治  三角餅  下午茶  中式  串燒  丼飯  乾麵  便當  健康餐  傻瓜麵\n",
      "rID                                             \n",
      "4      0    0    0   1   0   0   0   0    0    0\n",
      "5      0    0    0   0   0   0   0   0    0    0\n",
      "6      0    0    0   0   0   0   0   0    0    0\n",
      "8      0    0    0   1   0   0   0   0    0    0\n",
      "9      0    0    0   0   0   0   0   0    0    0\n"
     ]
    }
   ],
   "source": [
    "sql_query = 'SELECT rID,rName,all_label FROM res_info;'\n",
    "res_info = pd.read_sql_query(sql_query, engine)\n",
    "\n",
    "# res vector\n",
    "dummies = res_info[\"all_label\"].str.get_dummies(',')\n",
    "res_vec = pd.concat([res_info[\"rID\"], dummies], axis=1)\n",
    "res_vec.set_index(\"rID\",inplace=True)\n",
    "\n",
    "print(res_info[\"all_label\"].head())\n",
    "print(res_vec.iloc[:5,:10])"
   ]
  },
  {
   "cell_type": "code",
   "execution_count": 4,
   "id": "422b2b7a",
   "metadata": {},
   "outputs": [],
   "source": [
    "sql_query = 'SELECT uID,rID,rating FROM cost_detail;'\n",
    "cost_detail = pd.read_sql_query(sql_query, engine)"
   ]
  },
  {
   "cell_type": "code",
   "execution_count": 5,
   "id": "482e9687",
   "metadata": {},
   "outputs": [
    {
     "name": "stdout",
     "output_type": "stream",
     "text": [
      "          三明治  三角餅  下午茶        中式   串燒   丼飯   乾麵   便當       健康餐  傻瓜麵\n",
      "uID                                                                 \n",
      "1    0.142857  0.0  0.0  0.000000  0.0  0.0  0.0  0.0  0.000000  0.0\n",
      "2    0.000000  0.0  0.0  0.285714  0.0  0.0  0.0  0.0  0.142857  0.0\n",
      "3    0.000000  0.0  0.0  0.000000  0.0  0.0  0.0  0.0  0.000000  0.0\n",
      "4    0.142857  0.0  0.0  0.142857  0.0  0.0  0.0  0.0  0.000000  0.0\n",
      "5    0.100000  0.0  0.0  0.200000  0.0  0.0  0.0  0.1  0.200000  0.0\n"
     ]
    }
   ],
   "source": [
    "#user vector \n",
    "res_rating = pd.merge(cost_detail[[\"uID\",\"rID\"]], res_vec, on='rID')\n",
    "res_rating.drop(['rID'],axis=1,inplace=True)\n",
    "user_vec = res_rating.groupby(\"uID\").mean()\n",
    "\n",
    "print(user_vec.iloc[:5,:10])"
   ]
  },
  {
   "cell_type": "code",
   "execution_count": 6,
   "id": "bec0199e",
   "metadata": {},
   "outputs": [],
   "source": [
    "#用餘弦算相似度\n",
    "user_res_similarity_matrix = cosine_similarity(user_vec.values,res_vec.values)\n",
    "user_res_similarity_matrix = pd.DataFrame(user_res_similarity_matrix, index=user_vec.index,columns=res_vec.index)\n",
    "\n",
    "num_user,num_res =  user_res_similarity_matrix.shape"
   ]
  },
  {
   "cell_type": "code",
   "execution_count": 7,
   "id": "e4c9f3d5",
   "metadata": {},
   "outputs": [
    {
     "name": "stdout",
     "output_type": "stream",
     "text": [
      "user_res_similarity_matrix - #user: 20, #res: 720\n",
      "\n",
      "rID         4    5         6         8         9\n",
      "uID                                             \n",
      "1    0.000000  0.0  0.188982  0.000000  0.566947\n",
      "2    0.204124  0.0  0.125000  0.250000  0.375000\n",
      "3    0.000000  0.0  0.258199  0.000000  0.516398\n",
      "4    0.115470  0.0  0.141421  0.141421  0.282843\n",
      "5    0.139010  0.0  0.340503  0.255377  0.425628\n"
     ]
    }
   ],
   "source": [
    "print(f\"user_res_similarity_matrix - #user: {num_user}, #res: {num_res}\\n\")\n",
    "print(user_res_similarity_matrix.iloc[:5,:5])"
   ]
  },
  {
   "cell_type": "code",
   "execution_count": 8,
   "id": "c85e798e",
   "metadata": {},
   "outputs": [],
   "source": [
    "def get_the_most_similar_res(user_id, user_res_matrix,num):\n",
    "    \"\"\"Find the top-n restaurant most similar to the user\"\"\"\n",
    "    user_vec = user_res_matrix.loc[user_id].values \n",
    "    sorted_index = np.argsort(user_vec)[::-1][:num]\n",
    "    return list(user_res_matrix.columns[sorted_index])"
   ]
  },
  {
   "cell_type": "code",
   "execution_count": 9,
   "id": "ff8aedf4",
   "metadata": {},
   "outputs": [],
   "source": [
    "#restaurant name\n",
    "sql_query = 'SELECT rID,rName FROM restaurant;'\n",
    "res_name = pd.read_sql_query(sql_query, engine)"
   ]
  },
  {
   "cell_type": "code",
   "execution_count": 11,
   "id": "bc2e1d46",
   "metadata": {},
   "outputs": [
    {
     "name": "stdout",
     "output_type": "stream",
     "text": [
      "user: 1\n",
      "\n",
      "30        Bon Voyage Coffee 樂悠遊咖啡\n",
      "35                  Feeling 18 咖啡\n",
      "39               JULU Cafe（鉅鹿咖啡館）\n",
      "40      Kètīng客廳（15:00-16:30休息時間）\n",
      "48                       MuMu義式咖啡\n",
      "49                 NU PASTA 南投埔里店\n",
      "55                  Vesuvio 維蘇威咖啡\n",
      "205                        名家咖啡总店\n",
      "593    嫁婆jà po/露天咖啡請自備防蚊液小黑蚊沒在客氣的\n",
      "654                         樂卓手搖飲\n",
      "Name: rName, dtype: object\n"
     ]
    }
   ],
   "source": [
    "#Find the top-10 restaurant most similar to the user1\n",
    "user = 1\n",
    "res_ids = get_the_most_similar_res(user, user_res_similarity_matrix,10)\n",
    "print(f\"user: {user}\\n\")\n",
    "print(res_info[res_info[\"rID\"].isin(res_ids)][\"rName\"])"
   ]
  },
  {
   "cell_type": "code",
   "execution_count": 12,
   "id": "58dbaaa6",
   "metadata": {},
   "outputs": [
    {
     "name": "stdout",
     "output_type": "stream",
     "text": [
      "user: 2\n",
      "\n",
      "30        Bon Voyage Coffee 樂悠遊咖啡\n",
      "35                  Feeling 18 咖啡\n",
      "39               JULU Cafe（鉅鹿咖啡館）\n",
      "47           Mr.Drink手工飲品｜冷涼卡好果汁吧\n",
      "55                  Vesuvio 維蘇威咖啡\n",
      "56     YO COFFEE悠咖啡 （客製化蛋糕 埔里生日蛋糕\n",
      "205                        名家咖啡总店\n",
      "364                   姜有種 咖啡•酵母鬆餅\n",
      "609                      聖多羅響味蔬活館\n",
      "654                         樂卓手搖飲\n",
      "Name: rName, dtype: object\n"
     ]
    }
   ],
   "source": [
    "#Find the top-10 restaurant most similar to the user1\n",
    "user = 2\n",
    "res_ids = get_the_most_similar_res(user, user_res_similarity_matrix,10)\n",
    "print(f\"user: {user}\\n\")\n",
    "print(res_info[res_info[\"rID\"].isin(res_ids)][\"rName\"])"
   ]
  },
  {
   "cell_type": "code",
   "execution_count": 13,
   "id": "c7f6a7c1",
   "metadata": {},
   "outputs": [
    {
     "name": "stdout",
     "output_type": "stream",
     "text": [
      "user: 10\n",
      "\n",
      "8                  272巷弄咖啡\n",
      "48                MuMu義式咖啡\n",
      "49          NU PASTA 南投埔里店\n",
      "69     二月咖啡February coffee\n",
      "193                   田都蔬食\n",
      "238        江戶休閒舘（黑鼎coffee)\n",
      "245                 西塔山咖啡坊\n",
      "261                 甸畿咖啡莊園\n",
      "321                  金埔里咖啡\n",
      "411                   香緹咖啡\n",
      "Name: rName, dtype: object\n"
     ]
    }
   ],
   "source": [
    "#Find the top-10 restaurant most similar to the user1\n",
    "user = 10\n",
    "res_ids = get_the_most_similar_res(user, user_res_similarity_matrix,10)\n",
    "print(f\"user: {user}\\n\")\n",
    "print(res_info[res_info[\"rID\"].isin(res_ids)][\"rName\"])"
   ]
  },
  {
   "cell_type": "code",
   "execution_count": null,
   "id": "758f92bf",
   "metadata": {},
   "outputs": [],
   "source": []
  }
 ],
 "metadata": {
  "kernelspec": {
   "display_name": "Python 3 (ipykernel)",
   "language": "python",
   "name": "python3"
  },
  "language_info": {
   "codemirror_mode": {
    "name": "ipython",
    "version": 3
   },
   "file_extension": ".py",
   "mimetype": "text/x-python",
   "name": "python",
   "nbconvert_exporter": "python",
   "pygments_lexer": "ipython3",
   "version": "3.11.4"
  }
 },
 "nbformat": 4,
 "nbformat_minor": 5
}
