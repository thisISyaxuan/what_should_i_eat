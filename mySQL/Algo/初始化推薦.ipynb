{
 "cells": [
  {
   "cell_type": "code",
   "execution_count": 1,
   "id": "92802df4",
   "metadata": {},
   "outputs": [],
   "source": [
    "import numpy as np #conda install -c anaconda numpy\n",
    "import pandas as pd #conda install -c anaconda pandas\n",
    "import seaborn as sns #conda install -c anaconda seaborn\n",
    "from sqlalchemy import create_engine #conda install -c anaconda sqlalchemy\n",
    "from sklearn.metrics.pairwise import cosine_similarity #conda install -c anaconda scikit-learn\n",
    "from numpy import dot\n",
    "from numpy.linalg import norm"
   ]
  },
  {
   "cell_type": "code",
   "execution_count": 2,
   "id": "0531b71c",
   "metadata": {},
   "outputs": [],
   "source": [
    "host = 'localhost'  # localhost本地端\n",
    "user = 'root'\n",
    "password = ''\n",
    "db_name = 'user_info'\n",
    "port = '3306'  #3306\n",
    "\n",
    "connection_string = f'mysql+mysqlconnector://{user}:{password}@{host}:{port}/{db_name}'\n",
    "engine = create_engine(connection_string)"
   ]
  },
  {
   "cell_type": "code",
   "execution_count": 3,
   "id": "6624a6c1",
   "metadata": {},
   "outputs": [],
   "source": [
    "sql_query = 'SELECT * FROM user_like;'\n",
    "user_like = pd.read_sql_query(sql_query, engine)"
   ]
  },
  {
   "cell_type": "code",
   "execution_count": 4,
   "id": "106d61fe",
   "metadata": {},
   "outputs": [],
   "source": [
    "user_like.set_index(\"uID\",inplace=True)"
   ]
  },
  {
   "cell_type": "code",
   "execution_count": 5,
   "id": "fed2ad4d",
   "metadata": {},
   "outputs": [
    {
     "name": "stdout",
     "output_type": "stream",
     "text": [
      "      飲料   早餐    麵   中式    飯   炸物   便當   甜點   蛋餅   鍋物\n",
      "uID                                                  \n",
      "1    0.0  0.0  0.0  0.0  0.0  0.0  0.0  0.0  0.0  0.0\n",
      "2    0.0  0.0  0.0  0.0  0.0  0.0  0.0  0.0  0.0  0.5\n",
      "3    0.0  0.0  0.0  0.0  0.0  0.0  0.0  0.5  0.0  0.0\n",
      "4    0.0  0.0  0.0  0.0  0.0  0.0  0.0  0.0  0.0  0.5\n",
      "5    0.0  0.0  0.0  0.0  0.0  0.0  0.0  0.0  0.0  0.0\n"
     ]
    }
   ],
   "source": [
    "print(user_like.iloc[:5,:10])"
   ]
  },
  {
   "cell_type": "code",
   "execution_count": 6,
   "id": "c00fb00d",
   "metadata": {},
   "outputs": [],
   "source": [
    "sql_query = 'SELECT * FROM new_rlabel;'\n",
    "res_like = pd.read_sql_query(sql_query, engine)"
   ]
  },
  {
   "cell_type": "code",
   "execution_count": 7,
   "id": "72728d66",
   "metadata": {},
   "outputs": [],
   "source": [
    "res_like.set_index(\"rID\",inplace=True)"
   ]
  },
  {
   "cell_type": "code",
   "execution_count": 8,
   "id": "29d09f1c",
   "metadata": {},
   "outputs": [
    {
     "name": "stdout",
     "output_type": "stream",
     "text": [
      "     飲料  早餐  麵  中式  飯  炸物  便當  甜點  蛋餅  鍋物\n",
      "rID                                      \n",
      "4     0   0  0   1  0   0   0   0   0   0\n",
      "5     0   0  0   0  0   0   0   0   0   1\n",
      "6     0   0  0   0  1   0   0   0   0   0\n",
      "8     0   0  1   1  0   0   0   0   0   0\n",
      "9     0   0  0   0  0   0   0   0   0   0\n"
     ]
    }
   ],
   "source": [
    "print(res_like.iloc[:5,:10])"
   ]
  },
  {
   "cell_type": "code",
   "execution_count": 9,
   "id": "3e33bcf9",
   "metadata": {},
   "outputs": [],
   "source": [
    "#用餘弦算相似度\n",
    "user_res_like_similarity_matrix = cosine_similarity(user_like.values,res_like.values)\n",
    "user_res_like_similarity_matrix = pd.DataFrame(user_res_like_similarity_matrix, index=user_like.index,columns=res_like.index)\n",
    "\n",
    "num_user,num_res =  user_res_like_similarity_matrix.shape"
   ]
  },
  {
   "cell_type": "code",
   "execution_count": 10,
   "id": "4b00f356",
   "metadata": {},
   "outputs": [
    {
     "name": "stdout",
     "output_type": "stream",
     "text": [
      "user_res_like_similarity_matrix - #user: 20, #res: 1440\n",
      "\n",
      "rID    4         5    6    8    9\n",
      "uID                              \n",
      "1    0.0  0.000000  0.0  0.0  0.0\n",
      "2    0.0  0.149071  0.0  0.0  0.0\n",
      "3    0.0  0.000000  0.0  0.0  0.0\n",
      "4    0.0  0.125988  0.0  0.0  0.0\n",
      "5    0.0  0.000000  0.0  0.0  0.0\n"
     ]
    }
   ],
   "source": [
    "print(f\"user_res_like_similarity_matrix - #user: {num_user}, #res: {num_res}\\n\")\n",
    "print(user_res_like_similarity_matrix.iloc[:5,:5])"
   ]
  },
  {
   "cell_type": "code",
   "execution_count": 11,
   "id": "ee52b547",
   "metadata": {},
   "outputs": [],
   "source": [
    "def get_the_most_similar_res(user_id, user_res_matrix,num):\n",
    "    \"\"\"Find the top-n restaurant most similar to the user\"\"\"\n",
    "    user_like = user_res_matrix.loc[user_id].values \n",
    "    sorted_index = np.argsort(user_like)[::-1][:num]\n",
    "    return list(user_res_matrix.columns[sorted_index])"
   ]
  },
  {
   "cell_type": "code",
   "execution_count": 12,
   "id": "68cdcf5d",
   "metadata": {},
   "outputs": [],
   "source": [
    "#restaurant name\n",
    "sql_query = 'SELECT rID,rName FROM restaurant;'\n",
    "res_name = pd.read_sql_query(sql_query, engine)"
   ]
  },
  {
   "cell_type": "code",
   "execution_count": 13,
   "id": "781962e0",
   "metadata": {},
   "outputs": [],
   "source": [
    "sql_query = 'SELECT rID,rName,all_label FROM res_info;'\n",
    "res_info = pd.read_sql_query(sql_query, engine)"
   ]
  },
  {
   "cell_type": "code",
   "execution_count": 14,
   "id": "88598ffd",
   "metadata": {},
   "outputs": [
    {
     "name": "stdout",
     "output_type": "stream",
     "text": [
      "user: 1\n",
      "\n",
      "234                                        有利肉圓\n",
      "239                                  江媽媽筒仔米糕菜頭粿\n",
      "257                                      杜拉拉小食堂\n",
      "271                                        佳味麵館\n",
      "277                                         卓肉丸\n",
      "312                            果丘in 手作白木耳吸凍飲專賣店\n",
      "335                                        阿甲肉丸\n",
      "347                                        阿開肉圓\n",
      "474                                  埔里雙美紹興米糕老店\n",
      "493    真好味烤鴨莊-外帶外送團購午晚餐 隱藏排隊美食 拜拜三牲烤雞滷味(在地人氣必吃)\n",
      "Name: rName, dtype: object\n"
     ]
    }
   ],
   "source": [
    "#Find the top-10 restaurant most similar to the user1\n",
    "user = 1\n",
    "res_ids = get_the_most_similar_res(user, user_res_like_similarity_matrix,10)\n",
    "print(f\"user: {user}\\n\")\n",
    "print(res_info[res_info[\"rID\"].isin(res_ids)][\"rName\"])"
   ]
  },
  {
   "cell_type": "code",
   "execution_count": 15,
   "id": "5a6cd43c",
   "metadata": {},
   "outputs": [
    {
     "name": "stdout",
     "output_type": "stream",
     "text": [
      "user: 2\n",
      "\n",
      "102                         小青蛙咖啡吧/埔里美食/咖啡/餐廳/coffee/下午茶\n",
      "131                                        六扇門時尚湯鍋-埔里八德店\n",
      "194                                           石二鍋 埔里家樂福店\n",
      "266                                               亞美石頭火鍋\n",
      "343                                              阿桐師港式燒臘\n",
      "401    食午弎 火鍋外送專賣(暫無內用)- 埔里 鍋物 美食 餐廳 午餐 晚餐 推薦 打卡 生日佈置...\n",
      "417                                              埔里 Mr.鍋\n",
      "493             真好味烤鴨莊-外帶外送團購午晚餐 隱藏排隊美食 拜拜三牲烤雞滷味(在地人氣必吃)\n",
      "616                                              鼎上精緻涮涮鍋\n",
      "692           擼串舌忝籤火鍋串串香/埔里美食/埔里必吃/埔里麻辣火鍋/埔里餐廳/埔里晚餐/埔里火鍋\n",
      "Name: rName, dtype: object\n"
     ]
    }
   ],
   "source": [
    "#Find the top-10 restaurant most similar to the user1\n",
    "user = 2\n",
    "res_ids = get_the_most_similar_res(user, user_res_like_similarity_matrix,10)\n",
    "print(f\"user: {user}\\n\")\n",
    "print(res_info[res_info[\"rID\"].isin(res_ids)][\"rName\"])"
   ]
  },
  {
   "cell_type": "code",
   "execution_count": 16,
   "id": "121fbee2",
   "metadata": {},
   "outputs": [
    {
     "name": "stdout",
     "output_type": "stream",
     "text": [
      "user: 10\n",
      "\n",
      "129                                                公道豬排\n",
      "168                                            台灣第一家鹹酥雞\n",
      "169                                         台灣第一家鹹酥雞甜不辣\n",
      "170                                            台灣第一家鹽酥雞\n",
      "176                                        巧味園脆皮炸雞-埔里總店\n",
      "185    正好吃-龍鹽酥雞-鎮寶店-埔里鹽酥雞推薦|必吃鹽酥雞|炸物推薦|熱門炸物|推薦小吃|在地推薦美食\n",
      "439                                             埔里秉峰鍋燒店\n",
      "599                                               愛蘭香雞排\n",
      "614                                             詹媽媽脆皮炸雞\n",
      "718                                               鹽酥雞-沈\n",
      "Name: rName, dtype: object\n"
     ]
    }
   ],
   "source": [
    "#Find the top-10 restaurant most similar to the user1\n",
    "user = 10\n",
    "res_ids = get_the_most_similar_res(user, user_res_like_similarity_matrix,10)\n",
    "print(f\"user: {user}\\n\")\n",
    "print(res_info[res_info[\"rID\"].isin(res_ids)][\"rName\"])"
   ]
  },
  {
   "cell_type": "code",
   "execution_count": null,
   "id": "943c44ad",
   "metadata": {},
   "outputs": [],
   "source": []
  }
 ],
 "metadata": {
  "kernelspec": {
   "display_name": "Python 3 (ipykernel)",
   "language": "python",
   "name": "python3"
  },
  "language_info": {
   "codemirror_mode": {
    "name": "ipython",
    "version": 3
   },
   "file_extension": ".py",
   "mimetype": "text/x-python",
   "name": "python",
   "nbconvert_exporter": "python",
   "pygments_lexer": "ipython3",
   "version": "3.11.4"
  }
 },
 "nbformat": 4,
 "nbformat_minor": 5
}
